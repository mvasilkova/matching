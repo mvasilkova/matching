{
 "cells": [
  {
   "cell_type": "markdown",
   "metadata": {
    "id": "1qih4ddmCzA-"
   },
   "source": [
    "# Подбор наиболее похожих товаров.  \n",
    "\n",
    "**Задача**: разработать алгоритм, который для всех товаров из validation.csv предложит несколько вариантов наиболее похожих товаров из base.  \n",
    "\n",
    "**Данные**:  \n",
    "- *base.csv* - анонимизированный набор товаров. Каждый товар представлен как уникальный id (0-base, 1-base, 2-base) и вектор признаков размерностью 72.\n",
    "- *target.csv -* обучающий датасет. Каждая строчка - один товар, для которого известен уникальный id (0-query, 1-query, …) , вектор признаков И id товара из *base.csv*, который максимально похож на него (по мнению экспертов).\n",
    "- *validation.csv* - датасет с товарами (уникальный id и вектор признаков), для которых надо найти наиболее близкие товары из *base.csv*\n",
    "- *validation_answer.csv* - правильные ответы к предыдущему файлу."
   ]
  },
  {
   "cell_type": "markdown",
   "metadata": {
    "id": "hHV_oajezUgs"
   },
   "source": [
    "## Содержание.\n",
    "1. [Загрузка и ознакомление с данными](#step1).\n",
    "2. [Подготовка данных](#step2).  \n",
    "3. [Применение метода приближенного поиска ближайших соседей](#step3).\n",
    "4. [Применение алгоритма классификации](#step4).\n",
    "\n"
   ]
  },
  {
   "cell_type": "code",
   "execution_count": null,
   "metadata": {
    "colab": {
     "base_uri": "https://localhost:8080/"
    },
    "id": "INft6we7salk",
    "outputId": "b4e722b7-b1f0-4a75-b8c7-76f02df01aac"
   },
   "outputs": [],
   "source": [
    "#!pip install faiss-cpu --no-cache"
   ]
  },
  {
   "cell_type": "code",
   "execution_count": null,
   "metadata": {
    "colab": {
     "base_uri": "https://localhost:8080/"
    },
    "id": "Lqw4AauPBG9Q",
    "outputId": "a29855a3-cdf2-4c81-c9f8-94cbf9ccd37b"
   },
   "outputs": [],
   "source": [
    "#!pip install catboost"
   ]
  },
  {
   "cell_type": "code",
   "execution_count": null,
   "metadata": {
    "id": "WeO3Ri9QffCK"
   },
   "outputs": [],
   "source": [
    "import numpy as np\n",
    "import pandas as pd\n",
    "import faiss\n",
    "#from numpy.core.multiarray import ascontiguousarray\n",
    "from sklearn.preprocessing import StandardScaler\n",
    "#from google.colab import drive"
   ]
  },
  {
   "cell_type": "code",
   "execution_count": null,
   "metadata": {
    "id": "T9e8E4w3zjYG"
   },
   "outputs": [],
   "source": [
    "from catboost import CatBoostClassifier\n",
    "from catboost import cv, Pool\n",
    "from sklearn.model_selection import train_test_split\n",
    "from matplotlib import pyplot as plt\n",
    "import seaborn as sns"
   ]
  },
  {
   "cell_type": "code",
   "execution_count": null,
   "metadata": {
    "id": "iFlBSxWSq6AD"
   },
   "outputs": [],
   "source": [
    "import warnings\n",
    "warnings.filterwarnings(\"ignore\")"
   ]
  },
  {
   "cell_type": "markdown",
   "metadata": {
    "id": "jmUy52L-zlkK"
   },
   "source": [
    "<a id='step1'></a>\n",
    "## Загрузка и ознакомление с данными."
   ]
  },
  {
   "cell_type": "code",
   "execution_count": null,
   "metadata": {
    "colab": {
     "base_uri": "https://localhost:8080/"
    },
    "id": "jLT-aUQfBA6q",
    "outputId": "35b56dce-bd46-4d7f-c9e5-62a578483cbd"
   },
   "outputs": [],
   "source": [
    "#drive.mount('/content/gdrive')"
   ]
  },
  {
   "cell_type": "code",
   "execution_count": null,
   "metadata": {
    "id": "6VAb4Xjuf2c5"
   },
   "outputs": [],
   "source": [
    "try:\n",
    "    df_base = pd.read_csv(\"/content/gdrive/MyDrive/data/base.csv\", index_col=0)\n",
    "    df_train = pd.read_csv(\"/content/gdrive/MyDrive/data/train.csv\", index_col=0)\n",
    "except:\n",
    "    df_base = pd.read_csv(\"data/base.csv\", index_col=0)\n",
    "    df_train = pd.read_csv(\"data/train.csv\", index_col=0)\n"
   ]
  },
  {
   "cell_type": "code",
   "execution_count": null,
   "metadata": {
    "colab": {
     "base_uri": "https://localhost:8080/",
     "height": 350
    },
    "id": "83bzz-Blz6NZ",
    "outputId": "ed28fe85-55a9-4ba3-dd00-b6eeae1a4241"
   },
   "outputs": [],
   "source": [
    "df_base.describe()"
   ]
  },
  {
   "cell_type": "code",
   "execution_count": null,
   "metadata": {
    "colab": {
     "base_uri": "https://localhost:8080/",
     "height": 374
    },
    "id": "WaLtBDsF8efU",
    "outputId": "2e97790d-1523-4c4e-af18-d195b12214e7"
   },
   "outputs": [],
   "source": [
    "df_base.head()"
   ]
  },
  {
   "cell_type": "code",
   "execution_count": null,
   "metadata": {
    "colab": {
     "base_uri": "https://localhost:8080/"
    },
    "id": "KqmyZgZRHA8y",
    "outputId": "11506dbc-8512-4581-df96-02ea7417ca57"
   },
   "outputs": [],
   "source": [
    "df_base.duplicated().sum()"
   ]
  },
  {
   "cell_type": "markdown",
   "metadata": {
    "id": "5gNrJvkXGrnM"
   },
   "source": [
    "Для обучения доступны почти три миллиона товаров. Все характеристики числовые, пропусков и дубликатов нет."
   ]
  },
  {
   "cell_type": "code",
   "execution_count": null,
   "metadata": {
    "colab": {
     "base_uri": "https://localhost:8080/",
     "height": 350
    },
    "id": "Np7e8u_N2f6_",
    "outputId": "03e3ad46-412a-47b1-d458-1c59b8c0f473"
   },
   "outputs": [],
   "source": [
    "df_train.describe()"
   ]
  },
  {
   "cell_type": "code",
   "execution_count": null,
   "metadata": {
    "colab": {
     "base_uri": "https://localhost:8080/",
     "height": 374
    },
    "id": "84Ai_YQS2mpf",
    "outputId": "3828116a-f34e-4ac7-d014-e7fe0647fac0"
   },
   "outputs": [],
   "source": [
    "df_train.sample(5)"
   ]
  },
  {
   "cell_type": "code",
   "execution_count": null,
   "metadata": {
    "colab": {
     "base_uri": "https://localhost:8080/"
    },
    "id": "_Q7cKJynO4lw",
    "outputId": "f4f31ce0-62db-4136-ba29-31d8ab963d3f"
   },
   "outputs": [],
   "source": [
    "df_train.duplicated().sum()"
   ]
  },
  {
   "cell_type": "markdown",
   "metadata": {
    "id": "24y6JAvhOgDu"
   },
   "source": [
    "В тренировочной выборке 100000 товаров, пропусков и дубликатов также не обнаружено."
   ]
  },
  {
   "cell_type": "markdown",
   "metadata": {
    "id": "oPgW0F8dPRNW"
   },
   "source": [
    "Посмотрим на распределения признаков."
   ]
  },
  {
   "cell_type": "code",
   "execution_count": null,
   "metadata": {
    "colab": {
     "base_uri": "https://localhost:8080/",
     "height": 1000
    },
    "id": "f7Zaa_NW2tmk",
    "outputId": "756860cf-9f14-48e6-9be2-3adec6600f02"
   },
   "outputs": [],
   "source": [
    "fig, axes = plt.subplots(24,3,figsize=(16,72))\n",
    "\n",
    "for i in range(72):\n",
    "    sns.histplot(df_base[str(i)].sample(1000), ax=axes[i//3,i%3], alpha=0.3)\n",
    "    sns.histplot(df_train[str(i)].sample(1000), ax=axes[i//3,i%3], alpha=0.3)\n",
    "plt.subplots_adjust(hspace=0.5)"
   ]
  },
  {
   "cell_type": "markdown",
   "metadata": {
    "id": "Ou1dBxtQS5Wa"
   },
   "source": [
    "Распределения признаков в обучающй и тренировочной выборке примерно одинаковые. У большей части признаков нормальное распределение. Исключение составляют признаки 6, 21, 25, 33, 44, 59, 65 и 70."
   ]
  },
  {
   "cell_type": "code",
   "execution_count": null,
   "metadata": {
    "id": "GahWll7q0uwE"
   },
   "outputs": [],
   "source": []
  },
  {
   "cell_type": "markdown",
   "metadata": {
    "id": "QIEJnR7G0vin"
   },
   "source": [
    "<a id='step2'></a>\n",
    "## 2. Подготовка данных."
   ]
  },
  {
   "cell_type": "markdown",
   "metadata": {
    "id": "860AfTQ3TehU"
   },
   "source": [
    "Поскольку мы собираемся использовать метод ближайших соседей, проведем страндартизацию данных."
   ]
  },
  {
   "cell_type": "code",
   "execution_count": null,
   "metadata": {
    "id": "5_AmcLLTz4yz"
   },
   "outputs": [],
   "source": [
    "scaler = StandardScaler()"
   ]
  },
  {
   "cell_type": "code",
   "execution_count": null,
   "metadata": {
    "id": "grOH09ZYnLQc"
   },
   "outputs": [],
   "source": [
    "scaler.fit(df_base);"
   ]
  },
  {
   "cell_type": "code",
   "execution_count": null,
   "metadata": {
    "id": "ywpF8D1-6U0x"
   },
   "outputs": [],
   "source": [
    "df_base_scaled = pd.DataFrame(scaler.transform(df_base), index=df_base.index)"
   ]
  },
  {
   "cell_type": "code",
   "execution_count": null,
   "metadata": {
    "id": "7xp_G3tDrwkb"
   },
   "outputs": [],
   "source": []
  },
  {
   "cell_type": "markdown",
   "metadata": {
    "id": "VVqLtOc1rx1B"
   },
   "source": [
    "<a id=\"step3\"></a>\n",
    "## 3. Применение метода приближенного поиска ближайших соседей"
   ]
  },
  {
   "cell_type": "code",
   "execution_count": null,
   "metadata": {
    "id": "5bgD6C1FHye8"
   },
   "outputs": [],
   "source": [
    "dims = df_base.shape[1]"
   ]
  },
  {
   "cell_type": "code",
   "execution_count": null,
   "metadata": {
    "id": "4qzOGNi2H3iM"
   },
   "outputs": [],
   "source": [
    "n_cells = 100\n",
    "quantizer = faiss.IndexFlatL2(dims)"
   ]
  },
  {
   "cell_type": "code",
   "execution_count": null,
   "metadata": {
    "id": "ncA1TKPfH4cP"
   },
   "outputs": [],
   "source": [
    "idx_l2 = faiss.IndexIVFFlat(quantizer, dims, n_cells)"
   ]
  },
  {
   "cell_type": "code",
   "execution_count": null,
   "metadata": {
    "id": "dniypkYLIk7p"
   },
   "outputs": [],
   "source": [
    "idx_l2.train(np.ascontiguousarray(df_base_scaled.values).astype('float32'))\n",
    "idx_l2.add(np.ascontiguousarray(df_base_scaled.values).astype('float32'))"
   ]
  },
  {
   "cell_type": "code",
   "execution_count": null,
   "metadata": {
    "id": "kKf3VHlNLgjA"
   },
   "outputs": [],
   "source": [
    "base_index = {k:v for k,v in enumerate(df_base.index.to_list())}"
   ]
  },
  {
   "cell_type": "code",
   "execution_count": null,
   "metadata": {
    "id": "usIL3XZZUe2Z"
   },
   "outputs": [],
   "source": [
    "targets = df_train['Target']\n",
    "df_train.drop('Target', axis=1, inplace=True)"
   ]
  },
  {
   "cell_type": "code",
   "execution_count": 22,
   "metadata": {
    "id": "wH3vlDCX70Nt"
   },
   "outputs": [],
   "source": [
    "df_train_scaled = pd.DataFrame(scaler.transform(df_train), index=df_train.index)"
   ]
  },
  {
   "cell_type": "code",
   "execution_count": null,
   "metadata": {
    "id": "tz8e831yDMxT"
   },
   "outputs": [],
   "source": [
    "idx_l2.nprobe = 40"
   ]
  },
  {
   "cell_type": "code",
   "execution_count": null,
   "metadata": {
    "id": "7eBHEC8mDMj4"
   },
   "outputs": [],
   "source": [
    "vecs, idx = idx_l2.search(np.ascontiguousarray(df_train_scaled.values).astype('float32'), 10)"
   ]
  },
  {
   "cell_type": "code",
   "execution_count": null,
   "metadata": {
    "colab": {
     "base_uri": "https://localhost:8080/"
    },
    "id": "56ylOICjWIgN",
    "outputId": "1d20b8c4-d1a4-4e3e-890b-167d12eaba3f"
   },
   "outputs": [],
   "source": [
    "acc = 0\n",
    "for target, el in zip(targets.values.tolist(), idx.tolist()):\n",
    "  acc += int(target in [base_index[r] for r in el])\n",
    "\n",
    "print(100 * acc/ len(idx))"
   ]
  },
  {
   "cell_type": "code",
   "execution_count": null,
   "metadata": {
    "colab": {
     "base_uri": "https://localhost:8080/",
     "height": 179
    },
    "id": "73W6SFHFrJQE",
    "outputId": "e15bd04f-1a92-4b41-ab07-d2c776c4d4a8"
   },
   "outputs": [],
   "source": [
    "idx_df = pd.DataFrame(idx)"
   ]
  },
  {
   "cell_type": "code",
   "execution_count": null,
   "metadata": {
    "colab": {
     "base_uri": "https://localhost:8080/",
     "height": 206
    },
    "id": "cx9deMnCrkJt",
    "outputId": "7a1dd409-cb7c-4ea9-e768-fd05efbf7651"
   },
   "outputs": [],
   "source": [
    "idx_df.head()"
   ]
  },
  {
   "cell_type": "code",
   "execution_count": null,
   "metadata": {
    "id": "qwTC3UkV-M4G"
   },
   "outputs": [],
   "source": [
    "#idx_df.to_csv('/content/gdrive/MyDrive/data/idx_df.csv')"
   ]
  },
  {
   "cell_type": "markdown",
   "metadata": {
    "id": "WnlHxWaIq-N9"
   },
   "source": [
    "Применение приближенного поиска ближайших соседей дало значение метрики accuracy@10 69.664%.  \n",
    "Такое значение было достигнуто при делении набора товаров на 100 кластеров, поиск похожих товаров проводился в 30 ближайших.  \n",
    "Далее к полученному набору похожих кандидатов будет применен алгоритм классификации с целью выбрать 5 наиболее близких векторов."
   ]
  },
  {
   "cell_type": "markdown",
   "metadata": {
    "id": "1vf46TL4sGMv"
   },
   "source": [
    "<a id='step4'></a>\n",
    "## Применение алгоритма классификации"
   ]
  },
  {
   "cell_type": "code",
   "execution_count": null,
   "metadata": {
    "id": "imji41el2bKb"
   },
   "outputs": [],
   "source": [
    "#try:\n",
    "#    idx_df = pd.read_csv('/content/gdrive/MyDrive/data/idx_df.csv', index_col=0)\n",
    "#except:\n",
    "#    idx_df = pd.read_csv('idx_df.csv', index_col=0)"
   ]
  },
  {
   "cell_type": "markdown",
   "metadata": {
    "id": "etKFeR2S76h_"
   },
   "source": [
    "Сформируем данные для обучения классификатора. Объединим данные из base и train, целевым признаком будет являться факт того что товар из base является подходящим для товара из train по оценке экспертов."
   ]
  },
  {
   "cell_type": "code",
   "execution_count": null,
   "metadata": {
    "id": "0iEdM12HK-I5"
   },
   "outputs": [],
   "source": [
    "df_clf = pd.DataFrame()\n",
    "for i in range(len(idx_df)):\n",
    "    df_clf = pd.concat([df_clf, pd.DataFrame({\"train_idx\":targets.index[i], \"base_vecs\":idx_df.iloc[i]})],\n",
    "                       ignore_index=True)"
   ]
  },
  {
   "cell_type": "code",
   "execution_count": null,
   "metadata": {
    "id": "iwWAwTkfM7rI"
   },
   "outputs": [],
   "source": [
    "#df_clf.to_csv('/content/gdrive/MyDrive/data/train_base_df.csv')"
   ]
  },
  {
   "cell_type": "code",
   "execution_count": 19,
   "metadata": {
    "id": "M0r4FP0Kg4RX"
   },
   "outputs": [],
   "source": [
    "try:\n",
    "    df_clf = pd.read_csv('/content/gdrive/MyDrive/data/train_base_df.csv', index_col=0)\n",
    "except:\n",
    "    df_clf = pd.read_csv('train_base_df.csv', index_col=0)  "
   ]
  },
  {
   "cell_type": "code",
   "execution_count": 20,
   "metadata": {
    "id": "wGHs8OiyHvXH"
   },
   "outputs": [],
   "source": [
    "df_clf = pd.merge(df_clf, df_base_scaled.reset_index(), left_on='base_vecs', right_index=True, how='left')"
   ]
  },
  {
   "cell_type": "code",
   "execution_count": 23,
   "metadata": {
    "id": "Frtoj8bsDv2r"
   },
   "outputs": [],
   "source": [
    "df_clf = pd.merge(df_clf, df_train_scaled, left_on='train_idx', right_index=True)"
   ]
  },
  {
   "cell_type": "code",
   "execution_count": 24,
   "metadata": {
    "id": "2D3fZBQRFD-s"
   },
   "outputs": [],
   "source": [
    "df_clf = pd.merge(df_clf, targets, left_on='train_idx', right_index=True)"
   ]
  },
  {
   "cell_type": "code",
   "execution_count": 25,
   "metadata": {
    "id": "lSd9ims8jdPG"
   },
   "outputs": [],
   "source": [
    "df_clf['clf_target'] = 0\n",
    "df_clf['clf_target'] = df_clf['clf_target'].where((df_clf['Id'] != df_clf['Target']), other=1)"
   ]
  },
  {
   "cell_type": "code",
   "execution_count": null,
   "metadata": {
    "id": "IW9of4eJePym"
   },
   "outputs": [],
   "source": [
    "#df_clf.to_csv('/content/gdrive/MyDrive/data/train_base_df.csv')"
   ]
  },
  {
   "cell_type": "code",
   "execution_count": 26,
   "metadata": {
    "colab": {
     "base_uri": "https://localhost:8080/",
     "height": 342
    },
    "id": "dOFtA-xNnbn2",
    "outputId": "f2a40e91-00ca-4ba7-c3b6-bf7dd3e432c7"
   },
   "outputs": [
    {
     "data": {
      "text/html": [
       "<div>\n",
       "<style scoped>\n",
       "    .dataframe tbody tr th:only-of-type {\n",
       "        vertical-align: middle;\n",
       "    }\n",
       "\n",
       "    .dataframe tbody tr th {\n",
       "        vertical-align: top;\n",
       "    }\n",
       "\n",
       "    .dataframe thead th {\n",
       "        text-align: right;\n",
       "    }\n",
       "</style>\n",
       "<table border=\"1\" class=\"dataframe\">\n",
       "  <thead>\n",
       "    <tr style=\"text-align: right;\">\n",
       "      <th></th>\n",
       "      <th>train_idx</th>\n",
       "      <th>base_vecs</th>\n",
       "      <th>Id</th>\n",
       "      <th>0_x</th>\n",
       "      <th>1_x</th>\n",
       "      <th>2_x</th>\n",
       "      <th>3_x</th>\n",
       "      <th>4_x</th>\n",
       "      <th>5_x</th>\n",
       "      <th>6_x</th>\n",
       "      <th>...</th>\n",
       "      <th>64_y</th>\n",
       "      <th>65_y</th>\n",
       "      <th>66_y</th>\n",
       "      <th>67_y</th>\n",
       "      <th>68_y</th>\n",
       "      <th>69_y</th>\n",
       "      <th>70_y</th>\n",
       "      <th>71_y</th>\n",
       "      <th>Target</th>\n",
       "      <th>clf_target</th>\n",
       "    </tr>\n",
       "  </thead>\n",
       "  <tbody>\n",
       "    <tr>\n",
       "      <th>0</th>\n",
       "      <td>0-query</td>\n",
       "      <td>598613</td>\n",
       "      <td>675816-base</td>\n",
       "      <td>0.898824</td>\n",
       "      <td>1.833764</td>\n",
       "      <td>0.318692</td>\n",
       "      <td>-1.164895</td>\n",
       "      <td>1.889056</td>\n",
       "      <td>-0.185822</td>\n",
       "      <td>0.165148</td>\n",
       "      <td>...</td>\n",
       "      <td>-0.02441</td>\n",
       "      <td>-1.173481</td>\n",
       "      <td>-1.035388</td>\n",
       "      <td>0.197184</td>\n",
       "      <td>-0.200786</td>\n",
       "      <td>0.906575</td>\n",
       "      <td>0.995267</td>\n",
       "      <td>0.522963</td>\n",
       "      <td>675816-base</td>\n",
       "      <td>1</td>\n",
       "    </tr>\n",
       "    <tr>\n",
       "      <th>1</th>\n",
       "      <td>0-query</td>\n",
       "      <td>755584</td>\n",
       "      <td>877519-base</td>\n",
       "      <td>1.165669</td>\n",
       "      <td>2.229054</td>\n",
       "      <td>-0.704335</td>\n",
       "      <td>-1.734815</td>\n",
       "      <td>1.900754</td>\n",
       "      <td>-0.144193</td>\n",
       "      <td>-0.672585</td>\n",
       "      <td>...</td>\n",
       "      <td>-0.02441</td>\n",
       "      <td>-1.173481</td>\n",
       "      <td>-1.035388</td>\n",
       "      <td>0.197184</td>\n",
       "      <td>-0.200786</td>\n",
       "      <td>0.906575</td>\n",
       "      <td>0.995267</td>\n",
       "      <td>0.522963</td>\n",
       "      <td>675816-base</td>\n",
       "      <td>0</td>\n",
       "    </tr>\n",
       "    <tr>\n",
       "      <th>2</th>\n",
       "      <td>0-query</td>\n",
       "      <td>336969</td>\n",
       "      <td>361564-base</td>\n",
       "      <td>1.044863</td>\n",
       "      <td>1.884666</td>\n",
       "      <td>-0.007851</td>\n",
       "      <td>-2.048885</td>\n",
       "      <td>1.423150</td>\n",
       "      <td>-0.281895</td>\n",
       "      <td>-1.352459</td>\n",
       "      <td>...</td>\n",
       "      <td>-0.02441</td>\n",
       "      <td>-1.173481</td>\n",
       "      <td>-1.035388</td>\n",
       "      <td>0.197184</td>\n",
       "      <td>-0.200786</td>\n",
       "      <td>0.906575</td>\n",
       "      <td>0.995267</td>\n",
       "      <td>0.522963</td>\n",
       "      <td>675816-base</td>\n",
       "      <td>0</td>\n",
       "    </tr>\n",
       "    <tr>\n",
       "      <th>3</th>\n",
       "      <td>0-query</td>\n",
       "      <td>1934845</td>\n",
       "      <td>2725256-base</td>\n",
       "      <td>1.172481</td>\n",
       "      <td>1.973162</td>\n",
       "      <td>-0.269434</td>\n",
       "      <td>-1.615983</td>\n",
       "      <td>1.082829</td>\n",
       "      <td>-0.546268</td>\n",
       "      <td>0.107806</td>\n",
       "      <td>...</td>\n",
       "      <td>-0.02441</td>\n",
       "      <td>-1.173481</td>\n",
       "      <td>-1.035388</td>\n",
       "      <td>0.197184</td>\n",
       "      <td>-0.200786</td>\n",
       "      <td>0.906575</td>\n",
       "      <td>0.995267</td>\n",
       "      <td>0.522963</td>\n",
       "      <td>675816-base</td>\n",
       "      <td>0</td>\n",
       "    </tr>\n",
       "    <tr>\n",
       "      <th>4</th>\n",
       "      <td>0-query</td>\n",
       "      <td>13374</td>\n",
       "      <td>13406-base</td>\n",
       "      <td>1.165306</td>\n",
       "      <td>2.401230</td>\n",
       "      <td>-0.227657</td>\n",
       "      <td>-1.995106</td>\n",
       "      <td>1.589433</td>\n",
       "      <td>0.042180</td>\n",
       "      <td>-1.237574</td>\n",
       "      <td>...</td>\n",
       "      <td>-0.02441</td>\n",
       "      <td>-1.173481</td>\n",
       "      <td>-1.035388</td>\n",
       "      <td>0.197184</td>\n",
       "      <td>-0.200786</td>\n",
       "      <td>0.906575</td>\n",
       "      <td>0.995267</td>\n",
       "      <td>0.522963</td>\n",
       "      <td>675816-base</td>\n",
       "      <td>0</td>\n",
       "    </tr>\n",
       "  </tbody>\n",
       "</table>\n",
       "<p>5 rows × 149 columns</p>\n",
       "</div>"
      ],
      "text/plain": [
       "  train_idx  base_vecs            Id       0_x       1_x       2_x       3_x  \\\n",
       "0   0-query     598613   675816-base  0.898824  1.833764  0.318692 -1.164895   \n",
       "1   0-query     755584   877519-base  1.165669  2.229054 -0.704335 -1.734815   \n",
       "2   0-query     336969   361564-base  1.044863  1.884666 -0.007851 -2.048885   \n",
       "3   0-query    1934845  2725256-base  1.172481  1.973162 -0.269434 -1.615983   \n",
       "4   0-query      13374    13406-base  1.165306  2.401230 -0.227657 -1.995106   \n",
       "\n",
       "        4_x       5_x       6_x  ...     64_y      65_y      66_y      67_y  \\\n",
       "0  1.889056 -0.185822  0.165148  ... -0.02441 -1.173481 -1.035388  0.197184   \n",
       "1  1.900754 -0.144193 -0.672585  ... -0.02441 -1.173481 -1.035388  0.197184   \n",
       "2  1.423150 -0.281895 -1.352459  ... -0.02441 -1.173481 -1.035388  0.197184   \n",
       "3  1.082829 -0.546268  0.107806  ... -0.02441 -1.173481 -1.035388  0.197184   \n",
       "4  1.589433  0.042180 -1.237574  ... -0.02441 -1.173481 -1.035388  0.197184   \n",
       "\n",
       "       68_y      69_y      70_y      71_y       Target  clf_target  \n",
       "0 -0.200786  0.906575  0.995267  0.522963  675816-base           1  \n",
       "1 -0.200786  0.906575  0.995267  0.522963  675816-base           0  \n",
       "2 -0.200786  0.906575  0.995267  0.522963  675816-base           0  \n",
       "3 -0.200786  0.906575  0.995267  0.522963  675816-base           0  \n",
       "4 -0.200786  0.906575  0.995267  0.522963  675816-base           0  \n",
       "\n",
       "[5 rows x 149 columns]"
      ]
     },
     "execution_count": 26,
     "metadata": {},
     "output_type": "execute_result"
    }
   ],
   "source": [
    "df_clf.head()"
   ]
  },
  {
   "cell_type": "markdown",
   "metadata": {},
   "source": [
    "В итоге получаем данные для обучения:"
   ]
  },
  {
   "cell_type": "code",
   "execution_count": 27,
   "metadata": {
    "id": "-CiEyiSdn7QY"
   },
   "outputs": [
    {
     "data": {
      "text/html": [
       "<div>\n",
       "<style scoped>\n",
       "    .dataframe tbody tr th:only-of-type {\n",
       "        vertical-align: middle;\n",
       "    }\n",
       "\n",
       "    .dataframe tbody tr th {\n",
       "        vertical-align: top;\n",
       "    }\n",
       "\n",
       "    .dataframe thead th {\n",
       "        text-align: right;\n",
       "    }\n",
       "</style>\n",
       "<table border=\"1\" class=\"dataframe\">\n",
       "  <thead>\n",
       "    <tr style=\"text-align: right;\">\n",
       "      <th></th>\n",
       "      <th>0_x</th>\n",
       "      <th>1_x</th>\n",
       "      <th>2_x</th>\n",
       "      <th>3_x</th>\n",
       "      <th>4_x</th>\n",
       "      <th>5_x</th>\n",
       "      <th>6_x</th>\n",
       "      <th>7_x</th>\n",
       "      <th>8_x</th>\n",
       "      <th>9_x</th>\n",
       "      <th>...</th>\n",
       "      <th>62_y</th>\n",
       "      <th>63_y</th>\n",
       "      <th>64_y</th>\n",
       "      <th>65_y</th>\n",
       "      <th>66_y</th>\n",
       "      <th>67_y</th>\n",
       "      <th>68_y</th>\n",
       "      <th>69_y</th>\n",
       "      <th>70_y</th>\n",
       "      <th>71_y</th>\n",
       "    </tr>\n",
       "  </thead>\n",
       "  <tbody>\n",
       "    <tr>\n",
       "      <th>0</th>\n",
       "      <td>0.898824</td>\n",
       "      <td>1.833764</td>\n",
       "      <td>0.318692</td>\n",
       "      <td>-1.164895</td>\n",
       "      <td>1.889056</td>\n",
       "      <td>-0.185822</td>\n",
       "      <td>0.165148</td>\n",
       "      <td>-0.110005</td>\n",
       "      <td>-2.431230</td>\n",
       "      <td>-1.251412</td>\n",
       "      <td>...</td>\n",
       "      <td>-0.866975</td>\n",
       "      <td>1.274319</td>\n",
       "      <td>-0.02441</td>\n",
       "      <td>-1.173481</td>\n",
       "      <td>-1.035388</td>\n",
       "      <td>0.197184</td>\n",
       "      <td>-0.200786</td>\n",
       "      <td>0.906575</td>\n",
       "      <td>0.995267</td>\n",
       "      <td>0.522963</td>\n",
       "    </tr>\n",
       "    <tr>\n",
       "      <th>1</th>\n",
       "      <td>1.165669</td>\n",
       "      <td>2.229054</td>\n",
       "      <td>-0.704335</td>\n",
       "      <td>-1.734815</td>\n",
       "      <td>1.900754</td>\n",
       "      <td>-0.144193</td>\n",
       "      <td>-0.672585</td>\n",
       "      <td>0.136535</td>\n",
       "      <td>-2.022735</td>\n",
       "      <td>-0.149625</td>\n",
       "      <td>...</td>\n",
       "      <td>-0.866975</td>\n",
       "      <td>1.274319</td>\n",
       "      <td>-0.02441</td>\n",
       "      <td>-1.173481</td>\n",
       "      <td>-1.035388</td>\n",
       "      <td>0.197184</td>\n",
       "      <td>-0.200786</td>\n",
       "      <td>0.906575</td>\n",
       "      <td>0.995267</td>\n",
       "      <td>0.522963</td>\n",
       "    </tr>\n",
       "    <tr>\n",
       "      <th>2</th>\n",
       "      <td>1.044863</td>\n",
       "      <td>1.884666</td>\n",
       "      <td>-0.007851</td>\n",
       "      <td>-2.048885</td>\n",
       "      <td>1.423150</td>\n",
       "      <td>-0.281895</td>\n",
       "      <td>-1.352459</td>\n",
       "      <td>0.464914</td>\n",
       "      <td>-1.751272</td>\n",
       "      <td>-0.707837</td>\n",
       "      <td>...</td>\n",
       "      <td>-0.866975</td>\n",
       "      <td>1.274319</td>\n",
       "      <td>-0.02441</td>\n",
       "      <td>-1.173481</td>\n",
       "      <td>-1.035388</td>\n",
       "      <td>0.197184</td>\n",
       "      <td>-0.200786</td>\n",
       "      <td>0.906575</td>\n",
       "      <td>0.995267</td>\n",
       "      <td>0.522963</td>\n",
       "    </tr>\n",
       "    <tr>\n",
       "      <th>3</th>\n",
       "      <td>1.172481</td>\n",
       "      <td>1.973162</td>\n",
       "      <td>-0.269434</td>\n",
       "      <td>-1.615983</td>\n",
       "      <td>1.082829</td>\n",
       "      <td>-0.546268</td>\n",
       "      <td>0.107806</td>\n",
       "      <td>-0.081237</td>\n",
       "      <td>-1.115532</td>\n",
       "      <td>-0.590654</td>\n",
       "      <td>...</td>\n",
       "      <td>-0.866975</td>\n",
       "      <td>1.274319</td>\n",
       "      <td>-0.02441</td>\n",
       "      <td>-1.173481</td>\n",
       "      <td>-1.035388</td>\n",
       "      <td>0.197184</td>\n",
       "      <td>-0.200786</td>\n",
       "      <td>0.906575</td>\n",
       "      <td>0.995267</td>\n",
       "      <td>0.522963</td>\n",
       "    </tr>\n",
       "    <tr>\n",
       "      <th>4</th>\n",
       "      <td>1.165306</td>\n",
       "      <td>2.401230</td>\n",
       "      <td>-0.227657</td>\n",
       "      <td>-1.995106</td>\n",
       "      <td>1.589433</td>\n",
       "      <td>0.042180</td>\n",
       "      <td>-1.237574</td>\n",
       "      <td>0.536234</td>\n",
       "      <td>-1.574161</td>\n",
       "      <td>-0.095937</td>\n",
       "      <td>...</td>\n",
       "      <td>-0.866975</td>\n",
       "      <td>1.274319</td>\n",
       "      <td>-0.02441</td>\n",
       "      <td>-1.173481</td>\n",
       "      <td>-1.035388</td>\n",
       "      <td>0.197184</td>\n",
       "      <td>-0.200786</td>\n",
       "      <td>0.906575</td>\n",
       "      <td>0.995267</td>\n",
       "      <td>0.522963</td>\n",
       "    </tr>\n",
       "  </tbody>\n",
       "</table>\n",
       "<p>5 rows × 144 columns</p>\n",
       "</div>"
      ],
      "text/plain": [
       "        0_x       1_x       2_x       3_x       4_x       5_x       6_x  \\\n",
       "0  0.898824  1.833764  0.318692 -1.164895  1.889056 -0.185822  0.165148   \n",
       "1  1.165669  2.229054 -0.704335 -1.734815  1.900754 -0.144193 -0.672585   \n",
       "2  1.044863  1.884666 -0.007851 -2.048885  1.423150 -0.281895 -1.352459   \n",
       "3  1.172481  1.973162 -0.269434 -1.615983  1.082829 -0.546268  0.107806   \n",
       "4  1.165306  2.401230 -0.227657 -1.995106  1.589433  0.042180 -1.237574   \n",
       "\n",
       "        7_x       8_x       9_x  ...      62_y      63_y     64_y      65_y  \\\n",
       "0 -0.110005 -2.431230 -1.251412  ... -0.866975  1.274319 -0.02441 -1.173481   \n",
       "1  0.136535 -2.022735 -0.149625  ... -0.866975  1.274319 -0.02441 -1.173481   \n",
       "2  0.464914 -1.751272 -0.707837  ... -0.866975  1.274319 -0.02441 -1.173481   \n",
       "3 -0.081237 -1.115532 -0.590654  ... -0.866975  1.274319 -0.02441 -1.173481   \n",
       "4  0.536234 -1.574161 -0.095937  ... -0.866975  1.274319 -0.02441 -1.173481   \n",
       "\n",
       "       66_y      67_y      68_y      69_y      70_y      71_y  \n",
       "0 -1.035388  0.197184 -0.200786  0.906575  0.995267  0.522963  \n",
       "1 -1.035388  0.197184 -0.200786  0.906575  0.995267  0.522963  \n",
       "2 -1.035388  0.197184 -0.200786  0.906575  0.995267  0.522963  \n",
       "3 -1.035388  0.197184 -0.200786  0.906575  0.995267  0.522963  \n",
       "4 -1.035388  0.197184 -0.200786  0.906575  0.995267  0.522963  \n",
       "\n",
       "[5 rows x 144 columns]"
      ]
     },
     "execution_count": 27,
     "metadata": {},
     "output_type": "execute_result"
    }
   ],
   "source": [
    "X = df_clf.drop(['train_idx', 'base_vecs', 'Id', 'Target', 'clf_target'], axis=1)\n",
    "X.head()"
   ]
  },
  {
   "cell_type": "markdown",
   "metadata": {},
   "source": [
    "Целевая метрика:"
   ]
  },
  {
   "cell_type": "code",
   "execution_count": 28,
   "metadata": {
    "id": "sJAyhT3SodR3"
   },
   "outputs": [],
   "source": [
    "y = df_clf['clf_target']"
   ]
  },
  {
   "cell_type": "code",
   "execution_count": 29,
   "metadata": {
    "colab": {
     "base_uri": "https://localhost:8080/"
    },
    "id": "bJ70filJotBt",
    "outputId": "46a7ecbc-b98f-415e-d895-9e5d3a5dc09b"
   },
   "outputs": [
    {
     "data": {
      "text/plain": [
       "0    0.93047\n",
       "1    0.06953\n",
       "Name: clf_target, dtype: float64"
      ]
     },
     "execution_count": 29,
     "metadata": {},
     "output_type": "execute_result"
    }
   ],
   "source": [
    "y.value_counts(normalize=True)"
   ]
  },
  {
   "cell_type": "markdown",
   "metadata": {
    "id": "KN53qxnGovZt"
   },
   "source": [
    "Полученные классы сильно не сбалансированы, это нужно будет учесть при обучении модели.  \n",
    "В качестве алгоритма классфикации будет использован CatBoostClassifier."
   ]
  },
  {
   "cell_type": "code",
   "execution_count": 30,
   "metadata": {
    "id": "Nu2_4VPS2evI"
   },
   "outputs": [],
   "source": [
    "train_data = Pool(data=X,\n",
    "                  label=y)"
   ]
  },
  {
   "cell_type": "code",
   "execution_count": 31,
   "metadata": {
    "id": "ipCFNrPiw7Kk"
   },
   "outputs": [],
   "source": [
    "params = {'eval_metric': 'AUC',\n",
    "          'loss_function':'Logloss',\n",
    "          'learning_rate':0.15,\n",
    "          'random_seed':42,\n",
    "          'verbose':20}"
   ]
  },
  {
   "cell_type": "code",
   "execution_count": 32,
   "metadata": {
    "colab": {
     "base_uri": "https://localhost:8080/"
    },
    "id": "ds0VU8Zvz1vT",
    "outputId": "db1772e6-e751-446c-bd8c-3e43456241b7"
   },
   "outputs": [],
   "source": [
    "cv_data = cv(params = params,\n",
    "           pool = train_data,\n",
    "           fold_count = 5,\n",
    "           shuffle = True,\n",
    "           partition_random_seed = 0,\n",
    "           stratified = True,\n",
    "           verbose = False,\n",
    "           early_stopping_rounds = 200)"
   ]
  },
  {
   "cell_type": "code",
   "execution_count": 33,
   "metadata": {
    "colab": {
     "base_uri": "https://localhost:8080/",
     "height": 424
    },
    "id": "YuWY2Pk127Pq",
    "outputId": "bea4ee82-440f-4410-cd33-21da498d32c5"
   },
   "outputs": [
    {
     "data": {
      "text/html": [
       "<div>\n",
       "<style scoped>\n",
       "    .dataframe tbody tr th:only-of-type {\n",
       "        vertical-align: middle;\n",
       "    }\n",
       "\n",
       "    .dataframe tbody tr th {\n",
       "        vertical-align: top;\n",
       "    }\n",
       "\n",
       "    .dataframe thead th {\n",
       "        text-align: right;\n",
       "    }\n",
       "</style>\n",
       "<table border=\"1\" class=\"dataframe\">\n",
       "  <thead>\n",
       "    <tr style=\"text-align: right;\">\n",
       "      <th></th>\n",
       "      <th>iterations</th>\n",
       "      <th>test-AUC-mean</th>\n",
       "      <th>test-AUC-std</th>\n",
       "      <th>test-Logloss-mean</th>\n",
       "      <th>test-Logloss-std</th>\n",
       "      <th>train-Logloss-mean</th>\n",
       "      <th>train-Logloss-std</th>\n",
       "    </tr>\n",
       "  </thead>\n",
       "  <tbody>\n",
       "    <tr>\n",
       "      <th>0</th>\n",
       "      <td>0</td>\n",
       "      <td>0.528090</td>\n",
       "      <td>0.003494</td>\n",
       "      <td>0.544136</td>\n",
       "      <td>0.000017</td>\n",
       "      <td>0.544123</td>\n",
       "      <td>0.000015</td>\n",
       "    </tr>\n",
       "    <tr>\n",
       "      <th>1</th>\n",
       "      <td>1</td>\n",
       "      <td>0.634865</td>\n",
       "      <td>0.000696</td>\n",
       "      <td>0.440109</td>\n",
       "      <td>0.000117</td>\n",
       "      <td>0.440094</td>\n",
       "      <td>0.000142</td>\n",
       "    </tr>\n",
       "    <tr>\n",
       "      <th>2</th>\n",
       "      <td>2</td>\n",
       "      <td>0.680110</td>\n",
       "      <td>0.012101</td>\n",
       "      <td>0.373018</td>\n",
       "      <td>0.000990</td>\n",
       "      <td>0.372986</td>\n",
       "      <td>0.001010</td>\n",
       "    </tr>\n",
       "    <tr>\n",
       "      <th>3</th>\n",
       "      <td>3</td>\n",
       "      <td>0.701079</td>\n",
       "      <td>0.024421</td>\n",
       "      <td>0.328688</td>\n",
       "      <td>0.002449</td>\n",
       "      <td>0.328625</td>\n",
       "      <td>0.002501</td>\n",
       "    </tr>\n",
       "    <tr>\n",
       "      <th>4</th>\n",
       "      <td>4</td>\n",
       "      <td>0.752254</td>\n",
       "      <td>0.007398</td>\n",
       "      <td>0.296259</td>\n",
       "      <td>0.001322</td>\n",
       "      <td>0.296176</td>\n",
       "      <td>0.001376</td>\n",
       "    </tr>\n",
       "    <tr>\n",
       "      <th>...</th>\n",
       "      <td>...</td>\n",
       "      <td>...</td>\n",
       "      <td>...</td>\n",
       "      <td>...</td>\n",
       "      <td>...</td>\n",
       "      <td>...</td>\n",
       "      <td>...</td>\n",
       "    </tr>\n",
       "    <tr>\n",
       "      <th>995</th>\n",
       "      <td>995</td>\n",
       "      <td>0.977244</td>\n",
       "      <td>0.000446</td>\n",
       "      <td>0.078658</td>\n",
       "      <td>0.000950</td>\n",
       "      <td>0.066871</td>\n",
       "      <td>0.001576</td>\n",
       "    </tr>\n",
       "    <tr>\n",
       "      <th>996</th>\n",
       "      <td>996</td>\n",
       "      <td>0.977247</td>\n",
       "      <td>0.000446</td>\n",
       "      <td>0.078655</td>\n",
       "      <td>0.000952</td>\n",
       "      <td>0.066851</td>\n",
       "      <td>0.001580</td>\n",
       "    </tr>\n",
       "    <tr>\n",
       "      <th>997</th>\n",
       "      <td>997</td>\n",
       "      <td>0.977252</td>\n",
       "      <td>0.000443</td>\n",
       "      <td>0.078647</td>\n",
       "      <td>0.000949</td>\n",
       "      <td>0.066833</td>\n",
       "      <td>0.001577</td>\n",
       "    </tr>\n",
       "    <tr>\n",
       "      <th>998</th>\n",
       "      <td>998</td>\n",
       "      <td>0.977266</td>\n",
       "      <td>0.000424</td>\n",
       "      <td>0.078622</td>\n",
       "      <td>0.000906</td>\n",
       "      <td>0.066803</td>\n",
       "      <td>0.001549</td>\n",
       "    </tr>\n",
       "    <tr>\n",
       "      <th>999</th>\n",
       "      <td>999</td>\n",
       "      <td>0.977268</td>\n",
       "      <td>0.000424</td>\n",
       "      <td>0.078620</td>\n",
       "      <td>0.000907</td>\n",
       "      <td>0.066791</td>\n",
       "      <td>0.001548</td>\n",
       "    </tr>\n",
       "  </tbody>\n",
       "</table>\n",
       "<p>1000 rows × 7 columns</p>\n",
       "</div>"
      ],
      "text/plain": [
       "     iterations  test-AUC-mean  test-AUC-std  test-Logloss-mean  \\\n",
       "0             0       0.528090      0.003494           0.544136   \n",
       "1             1       0.634865      0.000696           0.440109   \n",
       "2             2       0.680110      0.012101           0.373018   \n",
       "3             3       0.701079      0.024421           0.328688   \n",
       "4             4       0.752254      0.007398           0.296259   \n",
       "..          ...            ...           ...                ...   \n",
       "995         995       0.977244      0.000446           0.078658   \n",
       "996         996       0.977247      0.000446           0.078655   \n",
       "997         997       0.977252      0.000443           0.078647   \n",
       "998         998       0.977266      0.000424           0.078622   \n",
       "999         999       0.977268      0.000424           0.078620   \n",
       "\n",
       "     test-Logloss-std  train-Logloss-mean  train-Logloss-std  \n",
       "0            0.000017            0.544123           0.000015  \n",
       "1            0.000117            0.440094           0.000142  \n",
       "2            0.000990            0.372986           0.001010  \n",
       "3            0.002449            0.328625           0.002501  \n",
       "4            0.001322            0.296176           0.001376  \n",
       "..                ...                 ...                ...  \n",
       "995          0.000950            0.066871           0.001576  \n",
       "996          0.000952            0.066851           0.001580  \n",
       "997          0.000949            0.066833           0.001577  \n",
       "998          0.000906            0.066803           0.001549  \n",
       "999          0.000907            0.066791           0.001548  \n",
       "\n",
       "[1000 rows x 7 columns]"
      ]
     },
     "execution_count": 33,
     "metadata": {},
     "output_type": "execute_result"
    }
   ],
   "source": [
    "cv_data"
   ]
  },
  {
   "cell_type": "code",
   "execution_count": 34,
   "metadata": {
    "id": "4469pJTFaCkm"
   },
   "outputs": [],
   "source": [
    "clf_model = CatBoostClassifier(**params)"
   ]
  },
  {
   "cell_type": "code",
   "execution_count": 35,
   "metadata": {
    "colab": {
     "base_uri": "https://localhost:8080/"
    },
    "id": "pnijw33oia-4",
    "outputId": "7ea93505-acf4-48bc-ad59-8c6b8cc0923b"
   },
   "outputs": [
    {
     "name": "stdout",
     "output_type": "stream",
     "text": [
      "0:\ttotal: 117ms\tremaining: 1m 56s\n",
      "20:\ttotal: 2.44s\tremaining: 1m 53s\n",
      "40:\ttotal: 4.83s\tremaining: 1m 52s\n",
      "60:\ttotal: 7.11s\tremaining: 1m 49s\n",
      "80:\ttotal: 9.43s\tremaining: 1m 47s\n",
      "100:\ttotal: 12.2s\tremaining: 1m 48s\n",
      "120:\ttotal: 14.4s\tremaining: 1m 44s\n",
      "140:\ttotal: 16.7s\tremaining: 1m 41s\n",
      "160:\ttotal: 19s\tremaining: 1m 38s\n",
      "180:\ttotal: 21.3s\tremaining: 1m 36s\n",
      "200:\ttotal: 23.6s\tremaining: 1m 33s\n",
      "220:\ttotal: 25.8s\tremaining: 1m 30s\n",
      "240:\ttotal: 28.1s\tremaining: 1m 28s\n",
      "260:\ttotal: 30.3s\tremaining: 1m 25s\n",
      "280:\ttotal: 32.5s\tremaining: 1m 23s\n",
      "300:\ttotal: 34.7s\tremaining: 1m 20s\n",
      "320:\ttotal: 37.1s\tremaining: 1m 18s\n",
      "340:\ttotal: 39.3s\tremaining: 1m 15s\n",
      "360:\ttotal: 41.5s\tremaining: 1m 13s\n",
      "380:\ttotal: 43.7s\tremaining: 1m 11s\n",
      "400:\ttotal: 45.9s\tremaining: 1m 8s\n",
      "420:\ttotal: 48s\tremaining: 1m 6s\n",
      "440:\ttotal: 50.2s\tremaining: 1m 3s\n",
      "460:\ttotal: 52.5s\tremaining: 1m 1s\n",
      "480:\ttotal: 54.7s\tremaining: 59s\n",
      "500:\ttotal: 56.9s\tremaining: 56.7s\n",
      "520:\ttotal: 59.1s\tremaining: 54.4s\n",
      "540:\ttotal: 1m 1s\tremaining: 52s\n",
      "560:\ttotal: 1m 3s\tremaining: 49.7s\n",
      "580:\ttotal: 1m 5s\tremaining: 47.4s\n",
      "600:\ttotal: 1m 7s\tremaining: 45.1s\n",
      "620:\ttotal: 1m 10s\tremaining: 42.9s\n",
      "640:\ttotal: 1m 12s\tremaining: 40.6s\n",
      "660:\ttotal: 1m 14s\tremaining: 38.3s\n",
      "680:\ttotal: 1m 16s\tremaining: 36s\n",
      "700:\ttotal: 1m 19s\tremaining: 33.7s\n",
      "720:\ttotal: 1m 21s\tremaining: 31.5s\n",
      "740:\ttotal: 1m 23s\tremaining: 29.2s\n",
      "760:\ttotal: 1m 25s\tremaining: 26.9s\n",
      "780:\ttotal: 1m 28s\tremaining: 24.7s\n",
      "800:\ttotal: 1m 30s\tremaining: 22.4s\n",
      "820:\ttotal: 1m 32s\tremaining: 20.2s\n",
      "840:\ttotal: 1m 34s\tremaining: 17.9s\n",
      "860:\ttotal: 1m 36s\tremaining: 15.6s\n",
      "880:\ttotal: 1m 38s\tremaining: 13.4s\n",
      "900:\ttotal: 1m 41s\tremaining: 11.1s\n",
      "920:\ttotal: 1m 43s\tremaining: 8.88s\n",
      "940:\ttotal: 1m 45s\tremaining: 6.63s\n",
      "960:\ttotal: 1m 47s\tremaining: 4.38s\n",
      "980:\ttotal: 1m 50s\tremaining: 2.13s\n",
      "999:\ttotal: 1m 52s\tremaining: 0us\n"
     ]
    },
    {
     "data": {
      "text/plain": [
       "<catboost.core.CatBoostClassifier at 0x7fef48420700>"
      ]
     },
     "execution_count": 35,
     "metadata": {},
     "output_type": "execute_result"
    }
   ],
   "source": [
    "clf_model.fit(X,y)"
   ]
  },
  {
   "cell_type": "code",
   "execution_count": 36,
   "metadata": {
    "id": "QsZSAsITims2"
   },
   "outputs": [],
   "source": [
    "y_pred = clf_model.predict_proba(X)"
   ]
  },
  {
   "cell_type": "code",
   "execution_count": 37,
   "metadata": {
    "id": "NHPIKfi_nKrw"
   },
   "outputs": [],
   "source": [
    "result = df_clf[['train_idx', 'Target']]\n",
    "result['Base'] = df_clf['Id']\n",
    "result['Clf_predictions'] = y_pred[:,1]"
   ]
  },
  {
   "cell_type": "code",
   "execution_count": 38,
   "metadata": {
    "id": "-2rilCau1fIS"
   },
   "outputs": [],
   "source": [
    "result = result.sort_values(['train_idx', 'Clf_predictions'], ascending=False)"
   ]
  },
  {
   "cell_type": "code",
   "execution_count": 39,
   "metadata": {},
   "outputs": [
    {
     "data": {
      "text/html": [
       "<div>\n",
       "<style scoped>\n",
       "    .dataframe tbody tr th:only-of-type {\n",
       "        vertical-align: middle;\n",
       "    }\n",
       "\n",
       "    .dataframe tbody tr th {\n",
       "        vertical-align: top;\n",
       "    }\n",
       "\n",
       "    .dataframe thead th {\n",
       "        text-align: right;\n",
       "    }\n",
       "</style>\n",
       "<table border=\"1\" class=\"dataframe\">\n",
       "  <thead>\n",
       "    <tr style=\"text-align: right;\">\n",
       "      <th></th>\n",
       "      <th>train_idx</th>\n",
       "      <th>Target</th>\n",
       "      <th>Base</th>\n",
       "      <th>Clf_predictions</th>\n",
       "    </tr>\n",
       "  </thead>\n",
       "  <tbody>\n",
       "    <tr>\n",
       "      <th>999990</th>\n",
       "      <td>99999-query</td>\n",
       "      <td>2769109-base</td>\n",
       "      <td>2769109-base</td>\n",
       "      <td>0.976532</td>\n",
       "    </tr>\n",
       "    <tr>\n",
       "      <th>999992</th>\n",
       "      <td>99999-query</td>\n",
       "      <td>2769109-base</td>\n",
       "      <td>2539368-base</td>\n",
       "      <td>0.008407</td>\n",
       "    </tr>\n",
       "    <tr>\n",
       "      <th>999995</th>\n",
       "      <td>99999-query</td>\n",
       "      <td>2769109-base</td>\n",
       "      <td>1412044-base</td>\n",
       "      <td>0.002486</td>\n",
       "    </tr>\n",
       "    <tr>\n",
       "      <th>999998</th>\n",
       "      <td>99999-query</td>\n",
       "      <td>2769109-base</td>\n",
       "      <td>49440-base</td>\n",
       "      <td>0.000549</td>\n",
       "    </tr>\n",
       "    <tr>\n",
       "      <th>999993</th>\n",
       "      <td>99999-query</td>\n",
       "      <td>2769109-base</td>\n",
       "      <td>1804388-base</td>\n",
       "      <td>0.000507</td>\n",
       "    </tr>\n",
       "  </tbody>\n",
       "</table>\n",
       "</div>"
      ],
      "text/plain": [
       "          train_idx        Target          Base  Clf_predictions\n",
       "999990  99999-query  2769109-base  2769109-base         0.976532\n",
       "999992  99999-query  2769109-base  2539368-base         0.008407\n",
       "999995  99999-query  2769109-base  1412044-base         0.002486\n",
       "999998  99999-query  2769109-base    49440-base         0.000549\n",
       "999993  99999-query  2769109-base  1804388-base         0.000507"
      ]
     },
     "execution_count": 39,
     "metadata": {},
     "output_type": "execute_result"
    }
   ],
   "source": [
    "result.head()"
   ]
  },
  {
   "cell_type": "code",
   "execution_count": 44,
   "metadata": {
    "colab": {
     "base_uri": "https://localhost:8080/"
    },
    "id": "rTiz6_yOXT0-",
    "outputId": "f701187e-ab3c-422f-8e45-9101271ba9ea"
   },
   "outputs": [
    {
     "data": {
      "text/plain": [
       "array([['2769109-base', '2539368-base', '1412044-base', ...,\n",
       "        '1137584-base', '870586-base', '473313-base'],\n",
       "       ['1079397-base', '1861685-base', '2123459-base', ...,\n",
       "        '105365-base', '4624606-base', '315187-base'],\n",
       "       ['2366140-base', '4264966-base', '330402-base', ...,\n",
       "        '4625222-base', '2477422-base', '34436-base'],\n",
       "       ...,\n",
       "       ['1790410-base', '418450-base', '3006692-base', ...,\n",
       "        '2428735-base', '258545-base', '474720-base'],\n",
       "       ['577617-base', '15226-base', '854272-base', ..., '3121612-base',\n",
       "        '231406-base', '234491-base'],\n",
       "       ['675816-base', '361564-base', '656625-base', ..., '2725256-base',\n",
       "        '3543241-base', '13406-base']], dtype=object)"
      ]
     },
     "execution_count": 44,
     "metadata": {},
     "output_type": "execute_result"
    }
   ],
   "source": [
    "result_array = result.Base.values.reshape(100000,10)\n",
    "result_array"
   ]
  },
  {
   "cell_type": "markdown",
   "metadata": {},
   "source": [
    "Итоговый набор векторов выглядит так:"
   ]
  },
  {
   "cell_type": "code",
   "execution_count": 60,
   "metadata": {
    "colab": {
     "base_uri": "https://localhost:8080/",
     "height": 363
    },
    "id": "GJ-75ma6xhLu",
    "outputId": "d47387ae-e716-459c-b26c-6366adcfc561"
   },
   "outputs": [
    {
     "data": {
      "text/html": [
       "<div>\n",
       "<style scoped>\n",
       "    .dataframe tbody tr th:only-of-type {\n",
       "        vertical-align: middle;\n",
       "    }\n",
       "\n",
       "    .dataframe tbody tr th {\n",
       "        vertical-align: top;\n",
       "    }\n",
       "\n",
       "    .dataframe thead th {\n",
       "        text-align: right;\n",
       "    }\n",
       "</style>\n",
       "<table border=\"1\" class=\"dataframe\">\n",
       "  <thead>\n",
       "    <tr style=\"text-align: right;\">\n",
       "      <th></th>\n",
       "      <th>0</th>\n",
       "      <th>1</th>\n",
       "      <th>2</th>\n",
       "      <th>3</th>\n",
       "      <th>4</th>\n",
       "    </tr>\n",
       "  </thead>\n",
       "  <tbody>\n",
       "    <tr>\n",
       "      <th>99999-query</th>\n",
       "      <td>2769109-base</td>\n",
       "      <td>2539368-base</td>\n",
       "      <td>1412044-base</td>\n",
       "      <td>49440-base</td>\n",
       "      <td>1804388-base</td>\n",
       "    </tr>\n",
       "    <tr>\n",
       "      <th>99998-query</th>\n",
       "      <td>1079397-base</td>\n",
       "      <td>1861685-base</td>\n",
       "      <td>2123459-base</td>\n",
       "      <td>491760-base</td>\n",
       "      <td>3539125-base</td>\n",
       "    </tr>\n",
       "    <tr>\n",
       "      <th>99997-query</th>\n",
       "      <td>2366140-base</td>\n",
       "      <td>4264966-base</td>\n",
       "      <td>330402-base</td>\n",
       "      <td>1095097-base</td>\n",
       "      <td>954342-base</td>\n",
       "    </tr>\n",
       "    <tr>\n",
       "      <th>99996-query</th>\n",
       "      <td>339932-base</td>\n",
       "      <td>3521422-base</td>\n",
       "      <td>236881-base</td>\n",
       "      <td>290344-base</td>\n",
       "      <td>41154-base</td>\n",
       "    </tr>\n",
       "    <tr>\n",
       "      <th>99995-query</th>\n",
       "      <td>1604453-base</td>\n",
       "      <td>252198-base</td>\n",
       "      <td>450650-base</td>\n",
       "      <td>642757-base</td>\n",
       "      <td>4502196-base</td>\n",
       "    </tr>\n",
       "    <tr>\n",
       "      <th>...</th>\n",
       "      <td>...</td>\n",
       "      <td>...</td>\n",
       "      <td>...</td>\n",
       "      <td>...</td>\n",
       "      <td>...</td>\n",
       "    </tr>\n",
       "    <tr>\n",
       "      <th>1000-query</th>\n",
       "      <td>16751-base</td>\n",
       "      <td>798711-base</td>\n",
       "      <td>1119473-base</td>\n",
       "      <td>327432-base</td>\n",
       "      <td>2367864-base</td>\n",
       "    </tr>\n",
       "    <tr>\n",
       "      <th>100-query</th>\n",
       "      <td>862477-base</td>\n",
       "      <td>4248796-base</td>\n",
       "      <td>1544002-base</td>\n",
       "      <td>3934158-base</td>\n",
       "      <td>3005591-base</td>\n",
       "    </tr>\n",
       "    <tr>\n",
       "      <th>10-query</th>\n",
       "      <td>1790410-base</td>\n",
       "      <td>418450-base</td>\n",
       "      <td>3006692-base</td>\n",
       "      <td>1409906-base</td>\n",
       "      <td>266030-base</td>\n",
       "    </tr>\n",
       "    <tr>\n",
       "      <th>1-query</th>\n",
       "      <td>577617-base</td>\n",
       "      <td>15226-base</td>\n",
       "      <td>854272-base</td>\n",
       "      <td>1075687-base</td>\n",
       "      <td>511045-base</td>\n",
       "    </tr>\n",
       "    <tr>\n",
       "      <th>0-query</th>\n",
       "      <td>675816-base</td>\n",
       "      <td>361564-base</td>\n",
       "      <td>656625-base</td>\n",
       "      <td>1408780-base</td>\n",
       "      <td>530165-base</td>\n",
       "    </tr>\n",
       "  </tbody>\n",
       "</table>\n",
       "<p>100000 rows × 5 columns</p>\n",
       "</div>"
      ],
      "text/plain": [
       "                        0             1             2             3  \\\n",
       "99999-query  2769109-base  2539368-base  1412044-base    49440-base   \n",
       "99998-query  1079397-base  1861685-base  2123459-base   491760-base   \n",
       "99997-query  2366140-base  4264966-base   330402-base  1095097-base   \n",
       "99996-query   339932-base  3521422-base   236881-base   290344-base   \n",
       "99995-query  1604453-base   252198-base   450650-base   642757-base   \n",
       "...                   ...           ...           ...           ...   \n",
       "1000-query     16751-base   798711-base  1119473-base   327432-base   \n",
       "100-query     862477-base  4248796-base  1544002-base  3934158-base   \n",
       "10-query     1790410-base   418450-base  3006692-base  1409906-base   \n",
       "1-query       577617-base    15226-base   854272-base  1075687-base   \n",
       "0-query       675816-base   361564-base   656625-base  1408780-base   \n",
       "\n",
       "                        4  \n",
       "99999-query  1804388-base  \n",
       "99998-query  3539125-base  \n",
       "99997-query   954342-base  \n",
       "99996-query    41154-base  \n",
       "99995-query  4502196-base  \n",
       "...                   ...  \n",
       "1000-query   2367864-base  \n",
       "100-query    3005591-base  \n",
       "10-query      266030-base  \n",
       "1-query       511045-base  \n",
       "0-query       530165-base  \n",
       "\n",
       "[100000 rows x 5 columns]"
      ]
     },
     "execution_count": 60,
     "metadata": {},
     "output_type": "execute_result"
    }
   ],
   "source": [
    "final_result = pd.DataFrame(data=result_array[:,:5], index=result['train_idx'].unique())\n",
    "final_result\n"
   ]
  },
  {
   "cell_type": "code",
   "execution_count": null,
   "metadata": {
    "id": "3M-dqI7t1NJR"
   },
   "outputs": [],
   "source": []
  }
 ],
 "metadata": {
  "colab": {
   "provenance": []
  },
  "kernelspec": {
   "display_name": "Python 3",
   "language": "python",
   "name": "python3"
  },
  "language_info": {
   "codemirror_mode": {
    "name": "ipython",
    "version": 3
   },
   "file_extension": ".py",
   "mimetype": "text/x-python",
   "name": "python",
   "nbconvert_exporter": "python",
   "pygments_lexer": "ipython3",
   "version": "3.8.3"
  }
 },
 "nbformat": 4,
 "nbformat_minor": 1
}
